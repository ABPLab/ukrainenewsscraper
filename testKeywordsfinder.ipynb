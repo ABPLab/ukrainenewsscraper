{
 "cells": [
  {
   "cell_type": "code",
   "execution_count": 1,
   "id": "72962602",
   "metadata": {},
   "outputs": [],
   "source": [
    "#import required libraries\n",
    "import os\n",
    "import pandas as pd\n",
    "from tqdm.notebook import tqdm\n",
    "import datetime\n",
    "import matplotlib.pyplot as plt"
   ]
  },
  {
   "cell_type": "code",
   "execution_count": 2,
   "id": "eb5b5f47",
   "metadata": {
    "scrolled": true
   },
   "outputs": [
    {
     "data": {
      "text/html": [
       "<div>\n",
       "<style scoped>\n",
       "    .dataframe tbody tr th:only-of-type {\n",
       "        vertical-align: middle;\n",
       "    }\n",
       "\n",
       "    .dataframe tbody tr th {\n",
       "        vertical-align: top;\n",
       "    }\n",
       "\n",
       "    .dataframe thead th {\n",
       "        text-align: right;\n",
       "    }\n",
       "</style>\n",
       "<table border=\"1\" class=\"dataframe\">\n",
       "  <thead>\n",
       "    <tr style=\"text-align: right;\">\n",
       "      <th></th>\n",
       "      <th>ID</th>\n",
       "      <th>Title</th>\n",
       "      <th>url</th>\n",
       "      <th>Date</th>\n",
       "    </tr>\n",
       "  </thead>\n",
       "  <tbody>\n",
       "    <tr>\n",
       "      <th>0</th>\n",
       "      <td>news-946055</td>\n",
       "      <td>Cosa è successo al deposito di petrolio di Bel...</td>\n",
       "      <td>https://www.open.online/2022/04/02/russia-belg...</td>\n",
       "      <td>2022-04-02 10:42:00</td>\n",
       "    </tr>\n",
       "    <tr>\n",
       "      <th>1</th>\n",
       "      <td>news-946061</td>\n",
       "      <td>Hostomel: la distruzione dell’aeroporto Antono...</td>\n",
       "      <td>https://www.open.online/2022/04/02/guerra-russ...</td>\n",
       "      <td>2022-04-02 10:06:00</td>\n",
       "    </tr>\n",
       "    <tr>\n",
       "      <th>2</th>\n",
       "      <td>news-946043</td>\n",
       "      <td>Il filmato della Bbc che prova il massacro dei...</td>\n",
       "      <td>https://www.open.online/2022/04/02/guerra-russ...</td>\n",
       "      <td>2022-04-02 09:35:00</td>\n",
       "    </tr>\n",
       "    <tr>\n",
       "      <th>3</th>\n",
       "      <td>news-945961</td>\n",
       "      <td>I russi hanno inviato 5.000 messaggi per incit...</td>\n",
       "      <td>https://www.open.online/2022/04/02/ucraina-mes...</td>\n",
       "      <td>2022-04-02 07:47:00</td>\n",
       "    </tr>\n",
       "    <tr>\n",
       "      <th>4</th>\n",
       "      <td>news-945973</td>\n",
       "      <td>Starstreak: il missile antiaereo Uk che abbatt...</td>\n",
       "      <td>https://www.open.online/2022/04/02/guerra-russ...</td>\n",
       "      <td>2022-04-02 07:33:00</td>\n",
       "    </tr>\n",
       "  </tbody>\n",
       "</table>\n",
       "</div>"
      ],
      "text/plain": [
       "            ID                                              Title  \\\n",
       "0  news-946055  Cosa è successo al deposito di petrolio di Bel...   \n",
       "1  news-946061  Hostomel: la distruzione dell’aeroporto Antono...   \n",
       "2  news-946043  Il filmato della Bbc che prova il massacro dei...   \n",
       "3  news-945961  I russi hanno inviato 5.000 messaggi per incit...   \n",
       "4  news-945973  Starstreak: il missile antiaereo Uk che abbatt...   \n",
       "\n",
       "                                                 url                 Date  \n",
       "0  https://www.open.online/2022/04/02/russia-belg...  2022-04-02 10:42:00  \n",
       "1  https://www.open.online/2022/04/02/guerra-russ...  2022-04-02 10:06:00  \n",
       "2  https://www.open.online/2022/04/02/guerra-russ...  2022-04-02 09:35:00  \n",
       "3  https://www.open.online/2022/04/02/ucraina-mes...  2022-04-02 07:47:00  \n",
       "4  https://www.open.online/2022/04/02/guerra-russ...  2022-04-02 07:33:00  "
      ]
     },
     "execution_count": 2,
     "metadata": {},
     "output_type": "execute_result"
    }
   ],
   "source": [
    "#laod the database\n",
    "db = '/home/giulio/Repositories/ukrainenewsscraper/Raw/Open/open.csv'\n",
    "df = pd.read_csv(db)\n",
    "df.head()"
   ]
  },
  {
   "cell_type": "code",
   "execution_count": 3,
   "id": "31ff7c54",
   "metadata": {},
   "outputs": [],
   "source": [
    "#time period to study\n",
    "firstDay = '2022-01-01'\n",
    "lastDay = '2022-04-03'"
   ]
  },
  {
   "cell_type": "code",
   "execution_count": 4,
   "id": "e10eef54",
   "metadata": {},
   "outputs": [],
   "source": [
    "#keywords to test. please use lowercase only\n",
    "keywords = ['bambino','bambina','bambini']"
   ]
  },
  {
   "cell_type": "code",
   "execution_count": 5,
   "id": "26bdba87",
   "metadata": {},
   "outputs": [],
   "source": [
    "df = df[(pd.to_datetime(df.Date) > pd.to_datetime(firstDay)) & (pd.to_datetime(df.Date) < pd.to_datetime(lastDay))]"
   ]
  },
  {
   "cell_type": "code",
   "execution_count": 6,
   "id": "ebcc35ec",
   "metadata": {},
   "outputs": [
    {
     "name": "stdout",
     "output_type": "stream",
     "text": [
      "946 Valid articles in selected dates range\n"
     ]
    }
   ],
   "source": [
    "print(len(df), 'Valid articles in selected dates range')"
   ]
  },
  {
   "cell_type": "code",
   "execution_count": 7,
   "id": "20c6f2ec",
   "metadata": {},
   "outputs": [
    {
     "data": {
      "application/vnd.jupyter.widget-view+json": {
       "model_id": "167cc08793464ab4827adbf473898d78",
       "version_major": 2,
       "version_minor": 0
      },
      "text/plain": [
       "  0%|          | 0/946 [00:00<?, ?it/s]"
      ]
     },
     "metadata": {},
     "output_type": "display_data"
    }
   ],
   "source": [
    "#look for keywords in articles\n",
    "newdata = []\n",
    "for ID in tqdm(df.ID):\n",
    "    with open('/home/giulio/Repositories/ukrainenewsscraper/Raw/Open/Articles/'+ID+'.txt') as f:\n",
    "        text = f.readlines()\n",
    "    newdata.append([ID, any(keyword in ''.join(text).lower() for keyword in keywords)])"
   ]
  },
  {
   "cell_type": "code",
   "execution_count": 8,
   "id": "56d4695f",
   "metadata": {},
   "outputs": [],
   "source": [
    "#update the database\n",
    "df = df.merge(pd.DataFrame(newdata, columns=['ID','KeywordsInArticle']), on='ID')"
   ]
  },
  {
   "cell_type": "code",
   "execution_count": 9,
   "id": "6a32e8ea",
   "metadata": {},
   "outputs": [
    {
     "data": {
      "text/html": [
       "<div>\n",
       "<style scoped>\n",
       "    .dataframe tbody tr th:only-of-type {\n",
       "        vertical-align: middle;\n",
       "    }\n",
       "\n",
       "    .dataframe tbody tr th {\n",
       "        vertical-align: top;\n",
       "    }\n",
       "\n",
       "    .dataframe thead th {\n",
       "        text-align: right;\n",
       "    }\n",
       "</style>\n",
       "<table border=\"1\" class=\"dataframe\">\n",
       "  <thead>\n",
       "    <tr style=\"text-align: right;\">\n",
       "      <th></th>\n",
       "      <th>KeywordsInArticle</th>\n",
       "    </tr>\n",
       "  </thead>\n",
       "  <tbody>\n",
       "    <tr>\n",
       "      <th>False</th>\n",
       "      <td>788</td>\n",
       "    </tr>\n",
       "    <tr>\n",
       "      <th>True</th>\n",
       "      <td>158</td>\n",
       "    </tr>\n",
       "  </tbody>\n",
       "</table>\n",
       "</div>"
      ],
      "text/plain": [
       "       KeywordsInArticle\n",
       "False                788\n",
       "True                 158"
      ]
     },
     "execution_count": 9,
     "metadata": {},
     "output_type": "execute_result"
    }
   ],
   "source": [
    "#How many articles contains the keywords? (True == contain)\n",
    "pd.DataFrame(df.KeywordsInArticle.value_counts())"
   ]
  },
  {
   "cell_type": "code",
   "execution_count": 10,
   "id": "881d7421",
   "metadata": {
    "scrolled": false
   },
   "outputs": [
    {
     "data": {
      "text/plain": [
       "(array([19024., 19031., 19038., 19045., 19052., 19059., 19066., 19073.,\n",
       "        19083.]),\n",
       " [Text(0, 0, ''),\n",
       "  Text(0, 0, ''),\n",
       "  Text(0, 0, ''),\n",
       "  Text(0, 0, ''),\n",
       "  Text(0, 0, ''),\n",
       "  Text(0, 0, ''),\n",
       "  Text(0, 0, ''),\n",
       "  Text(0, 0, ''),\n",
       "  Text(0, 0, '')])"
      ]
     },
     "execution_count": 10,
     "metadata": {},
     "output_type": "execute_result"
    },
    {
     "data": {
      "image/png": "[encoded data removed]",
      "text/plain": [
       "<Figure size 432x288 with 1 Axes>"
      ]
     },
     "metadata": {
      "needs_background": "light"
     },
     "output_type": "display_data"
    }
   ],
   "source": [
    "#plot time\n",
    "nbins = (datetime.datetime.strptime(lastDay, '%Y-%m-%d') - datetime.datetime.strptime(firstDay, '%Y-%m-%d')).days\n",
    "nbins = int(nbins / 5) #integer is number of days per bin\n",
    "pd.to_datetime(df[df.KeywordsInArticle].Date).dt.date.hist(bins=nbins)\n",
    "plt.xticks(rotation=90)"
   ]
  },
  {
   "cell_type": "code",
   "execution_count": 14,
   "id": "655f4b76",
   "metadata": {},
   "outputs": [
    {
     "data": {
      "text/html": [
       "<div>\n",
       "<style scoped>\n",
       "    .dataframe tbody tr th:only-of-type {\n",
       "        vertical-align: middle;\n",
       "    }\n",
       "\n",
       "    .dataframe tbody tr th {\n",
       "        vertical-align: top;\n",
       "    }\n",
       "\n",
       "    .dataframe thead th {\n",
       "        text-align: right;\n",
       "    }\n",
       "</style>\n",
       "<table border=\"1\" class=\"dataframe\">\n",
       "  <thead>\n",
       "    <tr style=\"text-align: right;\">\n",
       "      <th></th>\n",
       "      <th>ID</th>\n",
       "      <th>Title</th>\n",
       "      <th>url</th>\n",
       "      <th>Date</th>\n",
       "      <th>KeywordsInArticle</th>\n",
       "    </tr>\n",
       "  </thead>\n",
       "  <tbody>\n",
       "    <tr>\n",
       "      <th>923</th>\n",
       "      <td>news-874761</td>\n",
       "      <td>Crisi Ucraina, gli scenari possibili dell’inva...</td>\n",
       "      <td>https://www.open.online/2022/01/29/ucraina-rus...</td>\n",
       "      <td>2022-01-29 10:23:00</td>\n",
       "      <td>True</td>\n",
       "    </tr>\n",
       "    <tr>\n",
       "      <th>878</th>\n",
       "      <td>news-896337</td>\n",
       "      <td>Crisi ucraina, Kiev accusa Mosca: «Non ha riti...</td>\n",
       "      <td>https://www.open.online/2022/02/16/crisi-ucrai...</td>\n",
       "      <td>2022-02-16 17:15:00</td>\n",
       "      <td>True</td>\n",
       "    </tr>\n",
       "    <tr>\n",
       "      <th>873</th>\n",
       "      <td>news-897855</td>\n",
       "      <td>L’asilo colpito dall’artiglieria in Ucraina, p...</td>\n",
       "      <td>https://www.open.online/2022/02/17/crisi-ucrai...</td>\n",
       "      <td>2022-02-17 16:08:00</td>\n",
       "      <td>True</td>\n",
       "    </tr>\n",
       "    <tr>\n",
       "      <th>867</th>\n",
       "      <td>news-899845</td>\n",
       "      <td>Crisi ucraina, donne e bambini in fuga dalle r...</td>\n",
       "      <td>https://www.open.online/2022/02/18/crisi-ucrai...</td>\n",
       "      <td>2022-02-18 22:47:00</td>\n",
       "      <td>True</td>\n",
       "    </tr>\n",
       "    <tr>\n",
       "      <th>859</th>\n",
       "      <td>news-900011</td>\n",
       "      <td>Crisi Ucraina, Germania e Francia ai connazion...</td>\n",
       "      <td>https://www.open.online/2022/02/19/crisi-ucrai...</td>\n",
       "      <td>2022-02-19 21:30:00</td>\n",
       "      <td>True</td>\n",
       "    </tr>\n",
       "    <tr>\n",
       "      <th>...</th>\n",
       "      <td>...</td>\n",
       "      <td>...</td>\n",
       "      <td>...</td>\n",
       "      <td>...</td>\n",
       "      <td>...</td>\n",
       "    </tr>\n",
       "    <tr>\n",
       "      <th>34</th>\n",
       "      <td>news-943845</td>\n",
       "      <td>No! Questa donna non è la blogger incinta evac...</td>\n",
       "      <td>https://www.open.online/2022/03/31/ucraina-mar...</td>\n",
       "      <td>2022-03-31 15:15:00</td>\n",
       "      <td>True</td>\n",
       "    </tr>\n",
       "    <tr>\n",
       "      <th>27</th>\n",
       "      <td>news-940911</td>\n",
       "      <td>Ucraina, Draghi sente Scholz su gas e sanzioni...</td>\n",
       "      <td>https://www.open.online/2022/03/31/guerra-ucra...</td>\n",
       "      <td>2022-03-31 23:00:00</td>\n",
       "      <td>True</td>\n",
       "    </tr>\n",
       "    <tr>\n",
       "      <th>14</th>\n",
       "      <td>news-945085</td>\n",
       "      <td>Fedorov, il ministro di Kiev che guida il fron...</td>\n",
       "      <td>https://www.open.online/2022/04/01/guerra-ucra...</td>\n",
       "      <td>2022-04-01 16:32:00</td>\n",
       "      <td>True</td>\n",
       "    </tr>\n",
       "    <tr>\n",
       "      <th>5</th>\n",
       "      <td>news-945939</td>\n",
       "      <td>La moglie di Zelensky: «Viviamo nell’incubo de...</td>\n",
       "      <td>https://www.open.online/2022/04/02/ucraina-ole...</td>\n",
       "      <td>2022-04-02 06:38:00</td>\n",
       "      <td>True</td>\n",
       "    </tr>\n",
       "    <tr>\n",
       "      <th>945</th>\n",
       "      <td>news-945059</td>\n",
       "      <td>Kiev: «Truppe russe in Transistria». Il papa: ...</td>\n",
       "      <td>https://www.open.online/2022/04/02/guerra-ucra...</td>\n",
       "      <td>2022-04-02 14:45:00</td>\n",
       "      <td>True</td>\n",
       "    </tr>\n",
       "  </tbody>\n",
       "</table>\n",
       "<p>158 rows × 5 columns</p>\n",
       "</div>"
      ],
      "text/plain": [
       "              ID                                              Title  \\\n",
       "923  news-874761  Crisi Ucraina, gli scenari possibili dell’inva...   \n",
       "878  news-896337  Crisi ucraina, Kiev accusa Mosca: «Non ha riti...   \n",
       "873  news-897855  L’asilo colpito dall’artiglieria in Ucraina, p...   \n",
       "867  news-899845  Crisi ucraina, donne e bambini in fuga dalle r...   \n",
       "859  news-900011  Crisi Ucraina, Germania e Francia ai connazion...   \n",
       "..           ...                                                ...   \n",
       "34   news-943845  No! Questa donna non è la blogger incinta evac...   \n",
       "27   news-940911  Ucraina, Draghi sente Scholz su gas e sanzioni...   \n",
       "14   news-945085  Fedorov, il ministro di Kiev che guida il fron...   \n",
       "5    news-945939  La moglie di Zelensky: «Viviamo nell’incubo de...   \n",
       "945  news-945059  Kiev: «Truppe russe in Transistria». Il papa: ...   \n",
       "\n",
       "                                                   url                 Date  \\\n",
       "923  https://www.open.online/2022/01/29/ucraina-rus...  2022-01-29 10:23:00   \n",
       "878  https://www.open.online/2022/02/16/crisi-ucrai...  2022-02-16 17:15:00   \n",
       "873  https://www.open.online/2022/02/17/crisi-ucrai...  2022-02-17 16:08:00   \n",
       "867  https://www.open.online/2022/02/18/crisi-ucrai...  2022-02-18 22:47:00   \n",
       "859  https://www.open.online/2022/02/19/crisi-ucrai...  2022-02-19 21:30:00   \n",
       "..                                                 ...                  ...   \n",
       "34   https://www.open.online/2022/03/31/ucraina-mar...  2022-03-31 15:15:00   \n",
       "27   https://www.open.online/2022/03/31/guerra-ucra...  2022-03-31 23:00:00   \n",
       "14   https://www.open.online/2022/04/01/guerra-ucra...  2022-04-01 16:32:00   \n",
       "5    https://www.open.online/2022/04/02/ucraina-ole...  2022-04-02 06:38:00   \n",
       "945  https://www.open.online/2022/04/02/guerra-ucra...  2022-04-02 14:45:00   \n",
       "\n",
       "     KeywordsInArticle  \n",
       "923               True  \n",
       "878               True  \n",
       "873               True  \n",
       "867               True  \n",
       "859               True  \n",
       "..                 ...  \n",
       "34                True  \n",
       "27                True  \n",
       "14                True  \n",
       "5                 True  \n",
       "945               True  \n",
       "\n",
       "[158 rows x 5 columns]"
      ]
     },
     "execution_count": 14,
     "metadata": {},
     "output_type": "execute_result"
    }
   ],
   "source": [
    "df[df.KeywordsInArticle].sort_values(by='Date')"
   ]
  }
 ],
 "metadata": {
  "kernelspec": {
   "display_name": "Python 3 (ipykernel)",
   "language": "python",
   "name": "python3"
  },
  "language_info": {
   "codemirror_mode": {
    "name": "ipython",
    "version": 3
   },
   "file_extension": ".py",
   "mimetype": "text/x-python",
   "name": "python",
   "nbconvert_exporter": "python",
   "pygments_lexer": "ipython3",
   "version": "3.8.10"
  }
 },
 "nbformat": 4,
 "nbformat_minor": 5
}
