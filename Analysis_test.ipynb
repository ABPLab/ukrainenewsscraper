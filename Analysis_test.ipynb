{
 "cells": [
  {
   "cell_type": "code",
   "execution_count": 1,
   "metadata": {},
   "outputs": [],
   "source": [
    "#import required libraries\n",
    "import os\n",
    "import pandas as pd\n",
    "from tqdm.notebook import tqdm\n",
    "import datetime\n",
    "import matplotlib.pyplot as plt"
   ]
  },
  {
   "cell_type": "code",
   "execution_count": 2,
   "metadata": {},
   "outputs": [],
   "source": [
    "BASEPATH = '/home/giulio/Repositories/ukrainenewsscraper'\n",
    "RAWPATH = BASEPATH + os.sep + 'Raw' + os.sep #Path to raw data folder"
   ]
  },
  {
   "cell_type": "code",
   "execution_count": 3,
   "metadata": {},
   "outputs": [],
   "source": [
    "#Days of interest. Change the range here to study only a certain amount of time (e.g. 1 month)\n",
    "firstDay = '2022-02-24'\n",
    "lastDay = '2022-03-24'"
   ]
  },
  {
   "cell_type": "code",
   "execution_count": 4,
   "metadata": {},
   "outputs": [],
   "source": [
    "KEYWORDS = ['bambino','bambina','bambini', 'child','children','infants']"
   ]
  },
  {
   "cell_type": "markdown",
   "metadata": {},
   "source": [
    "# Preprocessing\n",
    "\n",
    "Put the file together and get em ready for analysis."
   ]
  },
  {
   "cell_type": "code",
   "execution_count": 5,
   "metadata": {},
   "outputs": [
    {
     "name": "stdout",
     "output_type": "stream",
     "text": [
      "The shape of the dataframe is (5151, 7)\n"
     ]
    }
   ],
   "source": [
    "#open all the datasets and merge them together\n",
    "dfs = []\n",
    "for folder in os.listdir(RAWPATH):\n",
    "    dfs.append(pd.read_csv(RAWPATH + folder + '/' + folder.lower() + '.csv').assign(Source=folder))\n",
    "\n",
    "df = pd.concat(dfs).drop(['Type','Unnamed: 0', 'Unnamed: 0.1', 'Unnamed: 0.1.1'], axis=1)\n",
    "del(dfs) #free some memory\n",
    "\n",
    "print('The shape of the dataframe is', df.shape)"
   ]
  },
  {
   "cell_type": "code",
   "execution_count": 6,
   "metadata": {},
   "outputs": [
    {
     "data": {
      "text/html": [
       "<div>\n",
       "<style scoped>\n",
       "    .dataframe tbody tr th:only-of-type {\n",
       "        vertical-align: middle;\n",
       "    }\n",
       "\n",
       "    .dataframe tbody tr th {\n",
       "        vertical-align: top;\n",
       "    }\n",
       "\n",
       "    .dataframe thead th {\n",
       "        text-align: right;\n",
       "    }\n",
       "</style>\n",
       "<table border=\"1\" class=\"dataframe\">\n",
       "  <thead>\n",
       "    <tr style=\"text-align: right;\">\n",
       "      <th></th>\n",
       "      <th>Title</th>\n",
       "      <th>url</th>\n",
       "      <th>Date</th>\n",
       "      <th>Subtitle</th>\n",
       "      <th>Article</th>\n",
       "      <th>Source</th>\n",
       "      <th>ID</th>\n",
       "    </tr>\n",
       "  </thead>\n",
       "  <tbody>\n",
       "    <tr>\n",
       "      <th>0</th>\n",
       "      <td>Wsj: \"Ue ha proposto di sanzionare anche le fi...</td>\n",
       "      <td>https://www.tgcom24.mediaset.it//temporeale/te...</td>\n",
       "      <td>2022-04-05 23:19:00</td>\n",
       "      <td>NaN</td>\n",
       "      <td>La Ue ha proposto di sanzionare anche le due f...</td>\n",
       "      <td>TGCOM24</td>\n",
       "      <td>NaN</td>\n",
       "    </tr>\n",
       "    <tr>\n",
       "      <th>1</th>\n",
       "      <td>Usa sanzionano Hydra, maggiore piattaforma del...</td>\n",
       "      <td>https://www.tgcom24.mediaset.it//temporeale/te...</td>\n",
       "      <td>2022-04-05 23:01:00</td>\n",
       "      <td>NaN</td>\n",
       "      <td>Gli Usa hanno sanzionato Hydra, la più grande ...</td>\n",
       "      <td>TGCOM24</td>\n",
       "      <td>NaN</td>\n",
       "    </tr>\n",
       "    <tr>\n",
       "      <th>2</th>\n",
       "      <td>Casa Bianca: nuove sanzioni a dirigenti govern...</td>\n",
       "      <td>https://www.tgcom24.mediaset.it//temporeale/te...</td>\n",
       "      <td>2022-04-05 22:42:00</td>\n",
       "      <td>NaN</td>\n",
       "      <td>Le nuove sanzioni Usa colpiranno dirigenti del...</td>\n",
       "      <td>TGCOM24</td>\n",
       "      <td>NaN</td>\n",
       "    </tr>\n",
       "    <tr>\n",
       "      <th>3</th>\n",
       "      <td>Bucha, la Russia si difende dalle accuse | In ...</td>\n",
       "      <td>https://www.tgcom24.mediaset.it/mondo/ucraina-...</td>\n",
       "      <td>2022-04-05 22:20:26</td>\n",
       "      <td>La Nato: \"Fase cruciale, Mosca vuole il Donbas...</td>\n",
       "      <td>La guerra in Ucraina entra nel quarantunesimo ...</td>\n",
       "      <td>TGCOM24</td>\n",
       "      <td>NaN</td>\n",
       "    </tr>\n",
       "    <tr>\n",
       "      <th>4</th>\n",
       "      <td>Esplosioni udite nella regione di Leopoli</td>\n",
       "      <td>https://www.tgcom24.mediaset.it//temporeale/te...</td>\n",
       "      <td>2022-04-05 22:20:00</td>\n",
       "      <td>NaN</td>\n",
       "      <td>Esplosioni sono state udite nell'ovest dell'Uc...</td>\n",
       "      <td>TGCOM24</td>\n",
       "      <td>NaN</td>\n",
       "    </tr>\n",
       "  </tbody>\n",
       "</table>\n",
       "</div>"
      ],
      "text/plain": [
       "                                               Title  \\\n",
       "0  Wsj: \"Ue ha proposto di sanzionare anche le fi...   \n",
       "1  Usa sanzionano Hydra, maggiore piattaforma del...   \n",
       "2  Casa Bianca: nuove sanzioni a dirigenti govern...   \n",
       "3  Bucha, la Russia si difende dalle accuse | In ...   \n",
       "4         Esplosioni udite nella regione di Leopoli    \n",
       "\n",
       "                                                 url                 Date  \\\n",
       "0  https://www.tgcom24.mediaset.it//temporeale/te...  2022-04-05 23:19:00   \n",
       "1  https://www.tgcom24.mediaset.it//temporeale/te...  2022-04-05 23:01:00   \n",
       "2  https://www.tgcom24.mediaset.it//temporeale/te...  2022-04-05 22:42:00   \n",
       "3  https://www.tgcom24.mediaset.it/mondo/ucraina-...  2022-04-05 22:20:26   \n",
       "4  https://www.tgcom24.mediaset.it//temporeale/te...  2022-04-05 22:20:00   \n",
       "\n",
       "                                            Subtitle  \\\n",
       "0                                                NaN   \n",
       "1                                                NaN   \n",
       "2                                                NaN   \n",
       "3  La Nato: \"Fase cruciale, Mosca vuole il Donbas...   \n",
       "4                                                NaN   \n",
       "\n",
       "                                             Article   Source   ID  \n",
       "0  La Ue ha proposto di sanzionare anche le due f...  TGCOM24  NaN  \n",
       "1  Gli Usa hanno sanzionato Hydra, la più grande ...  TGCOM24  NaN  \n",
       "2  Le nuove sanzioni Usa colpiranno dirigenti del...  TGCOM24  NaN  \n",
       "3  La guerra in Ucraina entra nel quarantunesimo ...  TGCOM24  NaN  \n",
       "4  Esplosioni sono state udite nell'ovest dell'Uc...  TGCOM24  NaN  "
      ]
     },
     "execution_count": 6,
     "metadata": {},
     "output_type": "execute_result"
    }
   ],
   "source": [
    "df.head()"
   ]
  },
  {
   "cell_type": "markdown",
   "metadata": {},
   "source": [
    "Some preprocessing is needed. We need to merge subtitles and Article, as not all the sources have a subtitle. \n",
    "We can also add the language of the article as a variable."
   ]
  },
  {
   "cell_type": "code",
   "execution_count": 7,
   "metadata": {},
   "outputs": [
    {
     "data": {
      "text/html": [
       "<div>\n",
       "<style scoped>\n",
       "    .dataframe tbody tr th:only-of-type {\n",
       "        vertical-align: middle;\n",
       "    }\n",
       "\n",
       "    .dataframe tbody tr th {\n",
       "        vertical-align: top;\n",
       "    }\n",
       "\n",
       "    .dataframe thead th {\n",
       "        text-align: right;\n",
       "    }\n",
       "</style>\n",
       "<table border=\"1\" class=\"dataframe\">\n",
       "  <thead>\n",
       "    <tr style=\"text-align: right;\">\n",
       "      <th></th>\n",
       "      <th>Title</th>\n",
       "      <th>url</th>\n",
       "      <th>Date</th>\n",
       "      <th>Article</th>\n",
       "      <th>Source</th>\n",
       "      <th>ID</th>\n",
       "    </tr>\n",
       "  </thead>\n",
       "  <tbody>\n",
       "    <tr>\n",
       "      <th>0</th>\n",
       "      <td>Wsj: \"Ue ha proposto di sanzionare anche le fi...</td>\n",
       "      <td>https://www.tgcom24.mediaset.it//temporeale/te...</td>\n",
       "      <td>2022-04-05 23:19:00</td>\n",
       "      <td>La Ue ha proposto di sanzionare anche le due f...</td>\n",
       "      <td>TGCOM24</td>\n",
       "      <td>NaN</td>\n",
       "    </tr>\n",
       "    <tr>\n",
       "      <th>1</th>\n",
       "      <td>Usa sanzionano Hydra, maggiore piattaforma del...</td>\n",
       "      <td>https://www.tgcom24.mediaset.it//temporeale/te...</td>\n",
       "      <td>2022-04-05 23:01:00</td>\n",
       "      <td>Gli Usa hanno sanzionato Hydra, la più grande ...</td>\n",
       "      <td>TGCOM24</td>\n",
       "      <td>NaN</td>\n",
       "    </tr>\n",
       "    <tr>\n",
       "      <th>2</th>\n",
       "      <td>Casa Bianca: nuove sanzioni a dirigenti govern...</td>\n",
       "      <td>https://www.tgcom24.mediaset.it//temporeale/te...</td>\n",
       "      <td>2022-04-05 22:42:00</td>\n",
       "      <td>Le nuove sanzioni Usa colpiranno dirigenti del...</td>\n",
       "      <td>TGCOM24</td>\n",
       "      <td>NaN</td>\n",
       "    </tr>\n",
       "    <tr>\n",
       "      <th>3</th>\n",
       "      <td>Bucha, la Russia si difende dalle accuse | In ...</td>\n",
       "      <td>https://www.tgcom24.mediaset.it/mondo/ucraina-...</td>\n",
       "      <td>2022-04-05 22:20:26</td>\n",
       "      <td>La Nato: \"Fase cruciale, Mosca vuole il Donbas...</td>\n",
       "      <td>TGCOM24</td>\n",
       "      <td>NaN</td>\n",
       "    </tr>\n",
       "    <tr>\n",
       "      <th>4</th>\n",
       "      <td>Esplosioni udite nella regione di Leopoli</td>\n",
       "      <td>https://www.tgcom24.mediaset.it//temporeale/te...</td>\n",
       "      <td>2022-04-05 22:20:00</td>\n",
       "      <td>Esplosioni sono state udite nell'ovest dell'Uc...</td>\n",
       "      <td>TGCOM24</td>\n",
       "      <td>NaN</td>\n",
       "    </tr>\n",
       "  </tbody>\n",
       "</table>\n",
       "</div>"
      ],
      "text/plain": [
       "                                               Title  \\\n",
       "0  Wsj: \"Ue ha proposto di sanzionare anche le fi...   \n",
       "1  Usa sanzionano Hydra, maggiore piattaforma del...   \n",
       "2  Casa Bianca: nuove sanzioni a dirigenti govern...   \n",
       "3  Bucha, la Russia si difende dalle accuse | In ...   \n",
       "4         Esplosioni udite nella regione di Leopoli    \n",
       "\n",
       "                                                 url                 Date  \\\n",
       "0  https://www.tgcom24.mediaset.it//temporeale/te...  2022-04-05 23:19:00   \n",
       "1  https://www.tgcom24.mediaset.it//temporeale/te...  2022-04-05 23:01:00   \n",
       "2  https://www.tgcom24.mediaset.it//temporeale/te...  2022-04-05 22:42:00   \n",
       "3  https://www.tgcom24.mediaset.it/mondo/ucraina-...  2022-04-05 22:20:26   \n",
       "4  https://www.tgcom24.mediaset.it//temporeale/te...  2022-04-05 22:20:00   \n",
       "\n",
       "                                             Article   Source   ID  \n",
       "0  La Ue ha proposto di sanzionare anche le due f...  TGCOM24  NaN  \n",
       "1  Gli Usa hanno sanzionato Hydra, la più grande ...  TGCOM24  NaN  \n",
       "2  Le nuove sanzioni Usa colpiranno dirigenti del...  TGCOM24  NaN  \n",
       "3  La Nato: \"Fase cruciale, Mosca vuole il Donbas...  TGCOM24  NaN  \n",
       "4  Esplosioni sono state udite nell'ovest dell'Uc...  TGCOM24  NaN  "
      ]
     },
     "execution_count": 7,
     "metadata": {},
     "output_type": "execute_result"
    }
   ],
   "source": [
    "df.Article = df.Subtitle.astype(str).replace('nan','') + df.Article\n",
    "df = df.drop('Subtitle', axis=1)\n",
    "df.head()"
   ]
  },
  {
   "cell_type": "code",
   "execution_count": 8,
   "metadata": {},
   "outputs": [],
   "source": [
    "df = df.assign(Language = df.Source.replace({'TGCOM24':'it','Open':'it','cna':'en','ilpost':'it'}))"
   ]
  },
  {
   "cell_type": "code",
   "execution_count": 9,
   "metadata": {},
   "outputs": [
    {
     "data": {
      "text/plain": [
       "it    4195\n",
       "en     956\n",
       "Name: Language, dtype: int64"
      ]
     },
     "execution_count": 9,
     "metadata": {},
     "output_type": "execute_result"
    }
   ],
   "source": [
    "df.Language.value_counts()"
   ]
  },
  {
   "cell_type": "code",
   "execution_count": 10,
   "metadata": {},
   "outputs": [],
   "source": [
    "df.loc[df['ID'].isnull(), 'ID'] = df.loc[df['ID'].isnull()].index"
   ]
  },
  {
   "cell_type": "markdown",
   "metadata": {},
   "source": [
    "We can also assign an ID to articles from TGCOM24, given that no ID was provided."
   ]
  },
  {
   "cell_type": "code",
   "execution_count": 11,
   "metadata": {},
   "outputs": [
    {
     "data": {
      "text/html": [
       "<div>\n",
       "<style scoped>\n",
       "    .dataframe tbody tr th:only-of-type {\n",
       "        vertical-align: middle;\n",
       "    }\n",
       "\n",
       "    .dataframe tbody tr th {\n",
       "        vertical-align: top;\n",
       "    }\n",
       "\n",
       "    .dataframe thead th {\n",
       "        text-align: right;\n",
       "    }\n",
       "</style>\n",
       "<table border=\"1\" class=\"dataframe\">\n",
       "  <thead>\n",
       "    <tr style=\"text-align: right;\">\n",
       "      <th></th>\n",
       "      <th>Title</th>\n",
       "      <th>url</th>\n",
       "      <th>Date</th>\n",
       "      <th>Article</th>\n",
       "      <th>Source</th>\n",
       "      <th>ID</th>\n",
       "      <th>Language</th>\n",
       "    </tr>\n",
       "  </thead>\n",
       "  <tbody>\n",
       "    <tr>\n",
       "      <th>0</th>\n",
       "      <td>Wsj: \"Ue ha proposto di sanzionare anche le fi...</td>\n",
       "      <td>https://www.tgcom24.mediaset.it//temporeale/te...</td>\n",
       "      <td>2022-04-05 23:19:00</td>\n",
       "      <td>La Ue ha proposto di sanzionare anche le due f...</td>\n",
       "      <td>TGCOM24</td>\n",
       "      <td>0</td>\n",
       "      <td>it</td>\n",
       "    </tr>\n",
       "    <tr>\n",
       "      <th>1</th>\n",
       "      <td>Usa sanzionano Hydra, maggiore piattaforma del...</td>\n",
       "      <td>https://www.tgcom24.mediaset.it//temporeale/te...</td>\n",
       "      <td>2022-04-05 23:01:00</td>\n",
       "      <td>Gli Usa hanno sanzionato Hydra, la più grande ...</td>\n",
       "      <td>TGCOM24</td>\n",
       "      <td>1</td>\n",
       "      <td>it</td>\n",
       "    </tr>\n",
       "    <tr>\n",
       "      <th>2</th>\n",
       "      <td>Casa Bianca: nuove sanzioni a dirigenti govern...</td>\n",
       "      <td>https://www.tgcom24.mediaset.it//temporeale/te...</td>\n",
       "      <td>2022-04-05 22:42:00</td>\n",
       "      <td>Le nuove sanzioni Usa colpiranno dirigenti del...</td>\n",
       "      <td>TGCOM24</td>\n",
       "      <td>2</td>\n",
       "      <td>it</td>\n",
       "    </tr>\n",
       "    <tr>\n",
       "      <th>3</th>\n",
       "      <td>Bucha, la Russia si difende dalle accuse | In ...</td>\n",
       "      <td>https://www.tgcom24.mediaset.it/mondo/ucraina-...</td>\n",
       "      <td>2022-04-05 22:20:26</td>\n",
       "      <td>La Nato: \"Fase cruciale, Mosca vuole il Donbas...</td>\n",
       "      <td>TGCOM24</td>\n",
       "      <td>3</td>\n",
       "      <td>it</td>\n",
       "    </tr>\n",
       "    <tr>\n",
       "      <th>4</th>\n",
       "      <td>Esplosioni udite nella regione di Leopoli</td>\n",
       "      <td>https://www.tgcom24.mediaset.it//temporeale/te...</td>\n",
       "      <td>2022-04-05 22:20:00</td>\n",
       "      <td>Esplosioni sono state udite nell'ovest dell'Uc...</td>\n",
       "      <td>TGCOM24</td>\n",
       "      <td>4</td>\n",
       "      <td>it</td>\n",
       "    </tr>\n",
       "  </tbody>\n",
       "</table>\n",
       "</div>"
      ],
      "text/plain": [
       "                                               Title  \\\n",
       "0  Wsj: \"Ue ha proposto di sanzionare anche le fi...   \n",
       "1  Usa sanzionano Hydra, maggiore piattaforma del...   \n",
       "2  Casa Bianca: nuove sanzioni a dirigenti govern...   \n",
       "3  Bucha, la Russia si difende dalle accuse | In ...   \n",
       "4         Esplosioni udite nella regione di Leopoli    \n",
       "\n",
       "                                                 url                 Date  \\\n",
       "0  https://www.tgcom24.mediaset.it//temporeale/te...  2022-04-05 23:19:00   \n",
       "1  https://www.tgcom24.mediaset.it//temporeale/te...  2022-04-05 23:01:00   \n",
       "2  https://www.tgcom24.mediaset.it//temporeale/te...  2022-04-05 22:42:00   \n",
       "3  https://www.tgcom24.mediaset.it/mondo/ucraina-...  2022-04-05 22:20:26   \n",
       "4  https://www.tgcom24.mediaset.it//temporeale/te...  2022-04-05 22:20:00   \n",
       "\n",
       "                                             Article   Source ID Language  \n",
       "0  La Ue ha proposto di sanzionare anche le due f...  TGCOM24  0       it  \n",
       "1  Gli Usa hanno sanzionato Hydra, la più grande ...  TGCOM24  1       it  \n",
       "2  Le nuove sanzioni Usa colpiranno dirigenti del...  TGCOM24  2       it  \n",
       "3  La Nato: \"Fase cruciale, Mosca vuole il Donbas...  TGCOM24  3       it  \n",
       "4  Esplosioni sono state udite nell'ovest dell'Uc...  TGCOM24  4       it  "
      ]
     },
     "execution_count": 11,
     "metadata": {},
     "output_type": "execute_result"
    }
   ],
   "source": [
    "df.head()"
   ]
  },
  {
   "cell_type": "markdown",
   "metadata": {},
   "source": [
    "And fix the weird \\n remaining in some titles and articles"
   ]
  },
  {
   "cell_type": "code",
   "execution_count": 12,
   "metadata": {},
   "outputs": [],
   "source": [
    "df.Title = [x.replace('\\n','') for x in  df.Title]\n",
    "df.Article = [str(x).replace('\\n',' ') for x in df.Article]"
   ]
  },
  {
   "cell_type": "code",
   "execution_count": null,
   "metadata": {},
   "outputs": [],
   "source": []
  },
  {
   "cell_type": "markdown",
   "metadata": {},
   "source": [
    "We can limit the dataframe to a period of interest. "
   ]
  },
  {
   "cell_type": "code",
   "execution_count": 13,
   "metadata": {},
   "outputs": [
    {
     "name": "stdout",
     "output_type": "stream",
     "text": [
      "3421 Valid articles in selected dates range\n"
     ]
    }
   ],
   "source": [
    "#time period to study\n",
    "df = df[(pd.to_datetime(df.Date) > pd.to_datetime(firstDay)) & (pd.to_datetime(df.Date) < pd.to_datetime(lastDay))]\n",
    "print(len(df), 'Valid articles in selected dates range')"
   ]
  },
  {
   "cell_type": "markdown",
   "metadata": {},
   "source": [
    "# Exploratory Analysis"
   ]
  },
  {
   "cell_type": "code",
   "execution_count": 14,
   "metadata": {},
   "outputs": [
    {
     "data": {
      "text/plain": [
       "TGCOM24    2255\n",
       "Open        660\n",
       "cna         462\n",
       "ilpost       44\n",
       "Name: Source, dtype: int64"
      ]
     },
     "execution_count": 14,
     "metadata": {},
     "output_type": "execute_result"
    },
    {
     "data": {
      "image/png": "[encoded data removed]",
      "text/plain": [
       "<Figure size 432x288 with 1 Axes>"
      ]
     },
     "metadata": {
      "needs_background": "light"
     },
     "output_type": "display_data"
    }
   ],
   "source": [
    "#How many articles per source?\n",
    "df.Source.value_counts().plot.bar()\n",
    "\n",
    "df.Source.value_counts()"
   ]
  },
  {
   "cell_type": "code",
   "execution_count": 15,
   "metadata": {},
   "outputs": [
    {
     "data": {
      "text/plain": [
       "it    2959\n",
       "en     462\n",
       "Name: Language, dtype: int64"
      ]
     },
     "execution_count": 15,
     "metadata": {},
     "output_type": "execute_result"
    },
    {
     "data": {
      "image/png": "[encoded data removed]",
      "text/plain": [
       "<Figure size 432x288 with 1 Axes>"
      ]
     },
     "metadata": {
      "needs_background": "light"
     },
     "output_type": "display_data"
    }
   ],
   "source": [
    "#How many articles per language?\n",
    "df.Language.value_counts().plot.bar()\n",
    "df.Language.value_counts()"
   ]
  },
  {
   "cell_type": "code",
   "execution_count": 16,
   "metadata": {},
   "outputs": [
    {
     "data": {
      "text/plain": [
       "Text(0.5, 1.0, 'Number of articles by day')"
      ]
     },
     "execution_count": 16,
     "metadata": {},
     "output_type": "execute_result"
    },
    {
     "data": {
      "image/png": "[encoded data removed]",
      "text/plain": [
       "<Figure size 432x288 with 1 Axes>"
      ]
     },
     "metadata": {
      "needs_background": "light"
     },
     "output_type": "display_data"
    }
   ],
   "source": [
    "datecount = pd.DataFrame(pd.to_datetime(df['Date']).dt.date.value_counts()).rename({'Date':'Count'}, axis=1).rename_axis('Date').sort_values(by='Date').reset_index()\n",
    "plt.plot(datecount.Date, datecount.Count)\n",
    "plt.xticks(rotation=-90)\n",
    "plt.xlabel('Date')\n",
    "plt.ylabel('Number of Articles')\n",
    "plt.title('Number of articles by day')"
   ]
  },
  {
   "cell_type": "code",
   "execution_count": 17,
   "metadata": {},
   "outputs": [],
   "source": [
    "#Create a date only field, move datetime to datetime field\n",
    "df = df.assign(Datetime = df.Date)\n",
    "df.Date = pd.to_datetime(df['Date']).dt.date"
   ]
  },
  {
   "cell_type": "code",
   "execution_count": 18,
   "metadata": {},
   "outputs": [
    {
     "data": {
      "text/plain": [
       "<matplotlib.legend.Legend at 0x7f230d8ff130>"
      ]
     },
     "execution_count": 18,
     "metadata": {},
     "output_type": "execute_result"
    },
    {
     "data": {
      "image/png": "[encoded data removed]",
      "text/plain": [
       "<Figure size 432x288 with 1 Axes>"
      ]
     },
     "metadata": {
      "needs_background": "light"
     },
     "output_type": "display_data"
    }
   ],
   "source": [
    "#see the number of articles by source\n",
    "for source in df.Source.unique():\n",
    "    t = pd.DataFrame(df[df.Source == source].Date.value_counts()).rename({'Date':'Count'}, axis=1).rename_axis('Date').sort_values(by='Date').reset_index()\n",
    "    plt.plot(t.Date, t.Count, label=source)\n",
    "    \n",
    "plt.xticks(rotation=-90)\n",
    "plt.xlabel('Date')\n",
    "plt.ylabel('Number of Articles')\n",
    "plt.title('Number of articles by day')\n",
    "plt.legend()"
   ]
  },
  {
   "cell_type": "code",
   "execution_count": 23,
   "metadata": {},
   "outputs": [
    {
     "data": {
      "text/plain": [
       "763    Il Regno Unito consegnerà altri 6mila missili ...\n",
       "764    Berlino vuole fornire altri 2mila lanciarazzi ...\n",
       "765    Le autorità di Kiev hanno informato l'Agenzia ...\n",
       "766    Il presidente ucraino, Volodymyr Zelensky, ha ...\n",
       "767    Il Consiglio di Sicurezza dell'Onu ha bocciato...\n",
       "                             ...                        \n",
       "113    L’inaspettato carisma di Zelensky  Il presiden...\n",
       "114    Breve storia dell’Ucraina  Chi ci ha vissuto e...\n",
       "115    Com’è fatta l’Ucraina  Qualche indicazione sul...\n",
       "116    Il ruolo della Bielorussia nell’invasione  Par...\n",
       "117    Che rapporto ha Putin con l’epoca sovietica  I...\n",
       "Name: Article, Length: 3421, dtype: object"
      ]
     },
     "execution_count": 23,
     "metadata": {},
     "output_type": "execute_result"
    }
   ],
   "source": [
    "df.Article"
   ]
  },
  {
   "cell_type": "code",
   "execution_count": 19,
   "metadata": {},
   "outputs": [],
   "source": [
    "# Rapid Analysis:\n",
    "\n",
    "df = df.assign(hasKeyword = [any([keyword in article for keyword in KEYWORDS]) for article in df.Article])"
   ]
  },
  {
   "cell_type": "code",
   "execution_count": 20,
   "metadata": {},
   "outputs": [
    {
     "data": {
      "text/plain": [
       "False    3101\n",
       "True      320\n",
       "Name: hasKeyword, dtype: int64"
      ]
     },
     "execution_count": 20,
     "metadata": {},
     "output_type": "execute_result"
    }
   ],
   "source": [
    "df.hasKeyword.value_counts()"
   ]
  },
  {
   "cell_type": "code",
   "execution_count": 21,
   "metadata": {},
   "outputs": [
    {
     "data": {
      "text/plain": [
       "Text(0.5, 1.0, 'Number of articles contaning keyword by day')"
      ]
     },
     "execution_count": 21,
     "metadata": {},
     "output_type": "execute_result"
    },
    {
     "data": {
      "image/png": "[encoded data removed]",
      "text/plain": [
       "<Figure size 432x288 with 1 Axes>"
      ]
     },
     "metadata": {
      "needs_background": "light"
     },
     "output_type": "display_data"
    }
   ],
   "source": [
    "#same plot as above but only for articles with keywords\n",
    "datecount = pd.DataFrame(pd.to_datetime(df[df.hasKeyword == True]['Date']).dt.date.value_counts()).rename({'Date':'Count'}, axis=1).rename_axis('Date').sort_values(by='Date').reset_index()\n",
    "plt.plot(datecount.Date, datecount.Count)\n",
    "plt.xticks(rotation=-90)\n",
    "plt.xlabel('Date')\n",
    "plt.ylabel('Number of Articles')\n",
    "plt.title('Number of articles contaning keyword by day')"
   ]
  },
  {
   "cell_type": "code",
   "execution_count": 22,
   "metadata": {},
   "outputs": [
    {
     "data": {
      "text/plain": [
       "<matplotlib.legend.Legend at 0x7f230b5971f0>"
      ]
     },
     "execution_count": 22,
     "metadata": {},
     "output_type": "execute_result"
    },
    {
     "data": {
      "image/png": "[encoded data removed]",
      "text/plain": [
       "<Figure size 432x288 with 1 Axes>"
      ]
     },
     "metadata": {
      "needs_background": "light"
     },
     "output_type": "display_data"
    }
   ],
   "source": [
    "#see the number of articles by source\n",
    "for source in df.Source.unique():\n",
    "    t = pd.DataFrame(df[(df.Source == source) & (df.hasKeyword)].Date.value_counts()).rename({'Date':'Count'}, axis=1).rename_axis('Date').sort_values(by='Date').reset_index()\n",
    "    plt.plot(t.Date, t.Count, label=source)\n",
    "    \n",
    "plt.xticks(rotation=-90)\n",
    "plt.xlabel('Date')\n",
    "plt.ylabel('Number of Articles')\n",
    "plt.title('Number of articles with keyword by day')\n",
    "plt.legend()"
   ]
  },
  {
   "cell_type": "code",
   "execution_count": null,
   "metadata": {},
   "outputs": [],
   "source": []
  }
 ],
 "metadata": {
  "kernelspec": {
   "display_name": "Python 3",
   "language": "python",
   "name": "python3"
  },
  "language_info": {
   "codemirror_mode": {
    "name": "ipython",
    "version": 3
   },
   "file_extension": ".py",
   "mimetype": "text/x-python",
   "name": "python",
   "nbconvert_exporter": "python",
   "pygments_lexer": "ipython3",
   "version": "3.8.10"
  }
 },
 "nbformat": 4,
 "nbformat_minor": 4
}
